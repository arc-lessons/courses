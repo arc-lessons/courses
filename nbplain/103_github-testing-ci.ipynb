{
 "cells": [
  {
   "cell_type": "markdown",
   "metadata": {
    "slideshow": {
     "slide_type": "slide"
    }
   },
   "source": [
    "# Using Github, Testing and Continuous Integration\n",
    "\n",
    "If you have started writing programmes in Python and are not already using version control to manage your code and testing to validate it's behaviour, you need to start.  This lesson will revise use of `git` to manage your code and documents to help you keep track of changes and collaborate with your colleagies.  It covers the key techniques used in professional software development to allow you to work efficiently and confidently."
   ]
  },
  {
   "cell_type": "markdown",
   "metadata": {
    "slideshow": {
     "slide_type": "slide"
    }
   },
   "source": [
    "## Prerequisites:\n",
    "\n",
    "To complete this lesson you should be familiar with:\n",
    "- Writing programs in Python\n",
    "- Working on the command line\n",
    "- Using git for version control\n",
    "- Wanting to make sure that your code is correct"
   ]
  },
  {
   "cell_type": "markdown",
   "metadata": {
    "slideshow": {
     "slide_type": "slide"
    }
   },
   "source": [
    "## Materials\n",
    "\n",
    "Lesson material: [https://arc-lessons.github.io/github-testing-ci/00_schedule.html](https://arc-lessons.github.io/github-testing-ci/00_schedule.html)\n",
    "\n",
    "Book a place (University of Bath students and staff only)\n",
    "\n",
    "Future lessons:\n",
    "\n",
    "| Dates | Programme |\n",
    "| --- | --- |\n",
    "| 23rd October 13:15-16:05 | [Classes](101_funcs-classes.ipynb), [Modules](102_libraries-modules.ipynb), [Performance](104_perf-python.ipynb)|\n",
    "|\n",
    "\n",
    "Previous lesson instructor notebooks:\n",
    "\n",
    "| Date | Instructor |\n",
    "| --- | --- |"
   ]
  }
 ],
 "metadata": {
  "celltoolbar": "Slideshow",
  "kernelspec": {
   "display_name": "Python 3",
   "language": "python",
   "name": "python3"
  },
  "language_info": {
   "codemirror_mode": {
    "name": "ipython",
    "version": 3
   },
   "file_extension": ".py",
   "mimetype": "text/x-python",
   "name": "python",
   "nbconvert_exporter": "python",
   "pygments_lexer": "ipython3",
   "version": "3.7.3"
  }
 },
 "nbformat": 4,
 "nbformat_minor": 2
}
