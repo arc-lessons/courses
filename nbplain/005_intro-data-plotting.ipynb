{
 "cells": [
  {
   "cell_type": "markdown",
   "metadata": {
    "slideshow": {
     "slide_type": "slide"
    }
   },
   "source": [
    "# Working with data and plotting\n",
    "\n",
    "In this session you will learn about some of the extensive libraries for managing, analysing and plotting data in Python.  We will introduce how to efficiently use numpy, pandas and matplotlib, to produce publication quality figures and tables for your papers, talks and reports."
   ]
  },
  {
   "cell_type": "markdown",
   "metadata": {
    "slideshow": {
     "slide_type": "slide"
    }
   },
   "source": [
    "## Prerequisites\n",
    "\n",
    "In order to complete the lesson you should be familar with the content of the course:\n",
    "* [Introduction to Python](002_intro-python.ipynb)"
   ]
  },
  {
   "cell_type": "markdown",
   "metadata": {
    "slideshow": {
     "slide_type": "slide"
    }
   },
   "source": [
    "## Materials\n",
    "\n",
    "Lesson material: [https://arc-lessons.github.io/intro-data-plotting/00_schedule.html](https://arc-lessons.github.io/intro-data-plotting/00_schedule.html)\n",
    "\n",
    "Book a place (University of Bath students and staff only)\n",
    "\n",
    "Future lessons:\n",
    "\n",
    "| Dates | Programme |\n",
    "| --- | --- |\n",
    "| 25th September 14:15-17:05 | [Linux](001_intro-linux.ipynb), [Python](002_intro-python.ipynb), [Version Control](003_version-control-git.ipynb), [Testing](004_intro-testing.ipynb) |\n",
    "|\n",
    "| 11th December 13:15-16:05 | [Python](002_intro-python.ipynb), [Version Control](003_version-control-git.ipynb) |\n",
    "|\n",
    "\n",
    "Previous lesson instructor notebooks:\n",
    "\n",
    "| Date | Instructor |\n",
    "| --- | --- |\n"
   ]
  }
 ],
 "metadata": {
  "celltoolbar": "Slideshow",
  "kernelspec": {
   "display_name": "Python 3",
   "language": "python",
   "name": "python3"
  },
  "language_info": {
   "codemirror_mode": {
    "name": "ipython",
    "version": 3
   },
   "file_extension": ".py",
   "mimetype": "text/x-python",
   "name": "python",
   "nbconvert_exporter": "python",
   "pygments_lexer": "ipython3",
   "version": "3.7.3"
  }
 },
 "nbformat": 4,
 "nbformat_minor": 2
}
