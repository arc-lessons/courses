{
 "cells": [
  {
   "cell_type": "markdown",
   "metadata": {
    "slideshow": {
     "slide_type": "slide"
    }
   },
   "source": [
    "# Introduction to Testing (and Continuous Integration)\n",
    "\n",
    "In this lesson we introduce the concept of testing, how it can help to improve the accuracy of your code and how to implement it efficiently using a Python library called `pytest`.  Testing is essential to demonstrate that programs work as expected, when they are first created and as functionality is added or implementation changed. By the end of the session attendees will learn that testing need not be a costly overhead but it is rather a methodology that helps to improve the quality and sustainability of software.\n",
    "\n",
    "Though some of this testing functionality is specific to Python, the approach and principles are general and libraries/frameworks exist in most languages."
   ]
  },
  {
   "cell_type": "markdown",
   "metadata": {
    "slideshow": {
     "slide_type": "slide"
    }
   },
   "source": [
    "## Prerequisites\n",
    "\n",
    "In order to complete the tutorial and use the build system you have:\n",
    "- Basic understanding of [Python](002_intro-python.ipynb), variables and functions.\n",
    "- Some previous experience with the [Linux](001_intro-linux.ipynb) shell is expected."
   ]
  },
  {
   "cell_type": "markdown",
   "metadata": {
    "slideshow": {
     "slide_type": "slide"
    }
   },
   "source": [
    "## Materials\n",
    "\n",
    "Lesson material: [https://arc-bath.github.io/intro-testing/00_schedule.html](https://arc-bath.github.io/intro-testing/00_schedule.html)\n",
    "\n",
    "Book a place (University of Bath students and staff only)\n",
    "\n",
    "Future lessons:\n",
    "\n",
    "| Dates | Programme |\n",
    "| --- | --- |\n",
    "| 25th September 10:15-13:05 | [Linux](001_intro-linux.ipynb), [Python](002_intro-python.ipynb), [Version Control](003_version-control-git.ipynb), [Working with Data](005_intro-data-plotting.ipynb) |\n",
    "|\n",
    "\n",
    "Previous lesson instructor notebooks:\n",
    "\n",
    "| Date | Instructor |\n",
    "| --- | --- |"
   ]
  }
 ],
 "metadata": {
  "celltoolbar": "Slideshow",
  "kernelspec": {
   "display_name": "Python 3",
   "language": "python",
   "name": "python3"
  },
  "language_info": {
   "codemirror_mode": {
    "name": "ipython",
    "version": 3
   },
   "file_extension": ".py",
   "mimetype": "text/x-python",
   "name": "python",
   "nbconvert_exporter": "python",
   "pygments_lexer": "ipython3",
   "version": "3.7.3"
  }
 },
 "nbformat": 4,
 "nbformat_minor": 2
}
