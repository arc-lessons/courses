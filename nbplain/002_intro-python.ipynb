{
 "cells": [
  {
   "cell_type": "markdown",
   "metadata": {
    "slideshow": {
     "slide_type": "slide"
    }
   },
   "source": [
    "# Introduction to Programming in Python\n",
    "\n",
    "Python is an excellent language for learning to programme.  It is supported by powerful standardised libraries that allow developers to quickly write functional code.  In this session attendees will learn about variables, open files and manage data as well as use conditional statements, loops and functions.\n",
    "\n",
    "Our real goal isn’t to just to teach Python, but to teach you the basic concepts that all programming depends on. We use Python in our lessons because:\n",
    "\n",
    "- it’s free, well-documented, and runs almost everywhere\n",
    "- it has a large (and growing) user base among scientists\n",
    "- experience shows that it’s easier for novices to pick up than most other languages.\n",
    "\n",
    "But the two most important things are to use whatever language your colleagues are using, so that you can share your work with them easily, and to use that language well.\n",
    "\n",
    "Introduction to Programming is run over 2 three hour sessions."
   ]
  },
  {
   "cell_type": "markdown",
   "metadata": {
    "slideshow": {
     "slide_type": "slide"
    }
   },
   "source": [
    "## Prerequisites\n",
    "\n",
    "In order to complete all epsiodes of the lesson it is useful to be familar with:\n",
    "- The linux command line: [Introduction to Linux](001_intro-linux.ipynb)"
   ]
  },
  {
   "cell_type": "markdown",
   "metadata": {
    "slideshow": {
     "slide_type": "slide"
    }
   },
   "source": [
    "## Materials\n",
    "\n",
    "Lesson material: [https://arc-lessons.github.io/intro-python/00_schedule.html](https://arc-lessons.github.io/intro-python/00_schedule.html)\n",
    "\n",
    "Book a place (University of Bath students and staff only)\n",
    "\n",
    "Future lessons:\n",
    "\n",
    "| Dates | Programme |\n",
    "| --- | --- |\n",
    "| 23rd September 14:15-17:05 & 24th September 10:15-13:05 | [Linux](001_intro-linux.ipynb), [Version Control](003_version-control-git.ipynb), [Testing](004_intro-testing.ipynb), [Working with Data](005_intro-data-plotting.ipynb) |\n",
    "|\n",
    "| 20th November 13:15-16:05 & 27th November 13:15-16:05 | [Version Control](003_version-control-git.ipynb), [Working with Data](005_intro-data-plotting.ipynb) |\n",
    "|\n",
    "\n",
    "Previous lesson instructor notebooks:\n",
    "\n",
    "| Date | Instructor |\n",
    "| --- | --- |\n",
    "| [24th/25th April 2019](https://notebooks.azure.com/jgrant/projects/intro-python-cva41-19-04-24) | Charlotte Avery |\n"
   ]
  }
 ],
 "metadata": {
  "celltoolbar": "Slideshow",
  "kernelspec": {
   "display_name": "Python 3",
   "language": "python",
   "name": "python3"
  },
  "language_info": {
   "codemirror_mode": {
    "name": "ipython",
    "version": 3
   },
   "file_extension": ".py",
   "mimetype": "text/x-python",
   "name": "python",
   "nbconvert_exporter": "python",
   "pygments_lexer": "ipython3",
   "version": "3.7.3"
  }
 },
 "nbformat": 4,
 "nbformat_minor": 2
}
