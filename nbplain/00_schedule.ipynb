{
 "cells": [
  {
   "cell_type": "markdown",
   "metadata": {
    "slideshow": {
     "slide_type": "slide"
    }
   },
   "source": [
    "# ARC Lessons"
   ]
  },
  {
   "cell_type": "markdown",
   "metadata": {
    "slideshow": {
     "slide_type": "subslide"
    }
   },
   "source": [
    "## Overview\n",
    "\n",
    "ARC Lessons are a collection of research software training materials aimed at researchers.  The programming lessons are in Python unless otherwise specified and are derived from a number of sources including [Software Carpentry](https://https://software-carpentry.org/) and [Christopher Woods](https://chryswoods.com/main/courses.html) for use at the University of Bath.\n",
    "\n",
    "The course list links to a brief description of the course and links to moodle pages for booking a place on the courses (University of Bath students and staff only), or you can go straight to the course material.  All of the rendered course material is available freely along with the source.  The setup for each course is described for use on [notebooks on azure](https://notebooks.azure.com) but should work fine e.g. if you are running Jupyter notebooks or python interpreter on your own device."
   ]
  },
  {
   "cell_type": "markdown",
   "metadata": {
    "slideshow": {
     "slide_type": "slide"
    }
   },
   "source": [
    "## Courses\n",
    "\n",
    "Our lessons typically run with instructor lead and self-paced components in three hour workshops.  Programmes are run either in blocks combining a number of lessons in two/three days or one afternoon a week over a number of weeks.  Demonstrators will be available throughout, questions, discussion and peer learning are encouraged.\n",
    "\n",
    "The core courses cover getting started using Linux, Python and employing good practices such as using version control (also useful for collaborating and managing data) and testing your code.  They aim to help you to work efficiently and give you the confidence to write reusable code and explore the huge range of libraries in the Python ecosystem.\n",
    "\n",
    "The intermediate courses are for those wanting formalise the structure of their code and start or contribute to collaborative community projects.  They can also help you improve the performance of your code, and consider options to optimise long running or numerically intensive functions.\n",
    "\n",
    "### Core Material\n",
    "\n",
    "| Lesson(moodle) | Course meterial(source) |\n",
    "|---|---|\n",
    "| [Introduction to Linux](101_intro-linux.ipynb) | [Course](https://arc-lessons.github.io/intro-linux/00_schedule.html)([source](https://github.com/arc-lessons/intro-linux)) |\n",
    "| [Introduction to Programming in Python](102_intro-python.ipynb) | [Course](https://arc-lessons.github.io/intro-python/00_schedule.html)([source](https://github.com/arc-lessons/intro-python)) |\n",
    "| [Version Control with git](103_version-control-git.ipynb) | [Course](https://arc-lessons.github.io/version-control-git/00_schedule.html)([source](https://arc-lessons.github.io/version-control-git)) |\n",
    "| [Introduction to Testing](104_intro-testing.ipynb) | [Course](https://arc-lessons.github.io/intro-testing/00_schedule.html)([source](https://github.com/arc-lessons/intro-testing)) |\n",
    "| [Working with Data and Plotting](105_intro-data-plotting.ipynb) | [Course](https://arc-lessons.github.io/intro-data-plotting/00_schedule.html)([source](https://github.com/arc-lessons/intro-data-plotting)) |\n",
    "| [Now Code](106_now-code.ipynb) | [Course](https://arc-lessons.github.io/now-code/00_schedule.html)([source](https://github.com/arc-lessons/now-code)) |\n",
    "\n",
    "\n",
    "### Intermediate Material\n",
    "\n",
    "\n",
    "| Lesson | Course meterial(source) |\n",
    "|---|---|\n",
    "| [Functions and Classes in Python](201_funcs-classes-python.ipynb) | [Course](https://arc-lessons.github.io/funcs-classes-python/00_schedule.html)([source](https://github.com/arc-lessons/funcs-classes-python)) |\n",
    "| [Libraries and Modules in Python](202_libraries-modules.ipynb) | [Course](https://arc-lessons.github.io/libraries-modules/00_schedule.html)([source](https://arc-lessons.github.io/libraries-modules/00_schedule.html)) |\n",
    "| [Collaborating, testing and CI](203_github-testing-ci.ipynb) | [Course](https://arc-lessons.github.io/github-testing-ci/00_schedule.html)([source](https://github.com/arc-lessons/github-testing-ci)) |\n",
    "| [Performant Python](204_perf-python.ipynb) | [Course](https://arc-lessons.github.io/perf-python/00_schedule.html)([source](https://github.com/arc-lessons/perf-python)) |\n",
    "\n"
   ]
  }
 ],
 "metadata": {
  "celltoolbar": "Slideshow",
  "kernelspec": {
   "display_name": "Python 3",
   "language": "python",
   "name": "python3"
  },
  "language_info": {
   "codemirror_mode": {
    "name": "ipython",
    "version": 3
   },
   "file_extension": ".py",
   "mimetype": "text/x-python",
   "name": "python",
   "nbconvert_exporter": "python",
   "pygments_lexer": "ipython3",
   "version": "3.7.3"
  }
 },
 "nbformat": 4,
 "nbformat_minor": 2
}
