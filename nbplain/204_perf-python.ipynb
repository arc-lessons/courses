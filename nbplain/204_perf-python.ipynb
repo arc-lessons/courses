{
 "cells": [
  {
   "cell_type": "markdown",
   "metadata": {
    "slideshow": {
     "slide_type": "slide"
    }
   },
   "source": [
    "# Performant Python\n",
    "\n",
    "Once you have working code that you have tested to demonstrate that it is working correctly.  You might want to explore how efficient the code runs.  This lesson will explore `numpy`, `numba`, `scipy` and `Cython`.  Each of these explore different methods to (attempt to) improve the performance of Python to comparable levels with compiled languages such as C and Fortran."
   ]
  },
  {
   "cell_type": "markdown",
   "metadata": {
    "slideshow": {
     "slide_type": "slide"
    }
   },
   "source": [
    "## Prerequisites:\n",
    "\n",
    "To complete this lesson you should be familiar with:\n",
    "\n",
    "- Writing numerical Python codes"
   ]
  },
  {
   "cell_type": "markdown",
   "metadata": {
    "slideshow": {
     "slide_type": "slide"
    }
   },
   "source": [
    "## Materials\n",
    "\n",
    "Lesson material: [https://arc-lessons.github.io/perf-python/00_schedule.html](https://arc-lessons.github.io/perf-python/00_schedule.html)\n",
    "\n",
    "Book a place (University of Bath students and staff only)\n",
    "\n",
    "Future lessons:\n",
    "\n",
    "| Dates | Programme |\n",
    "| --- | --- |\n",
    "| 30th October 13:15-16:05 | [Classes](101_funcs-classes.ipynb), [Modules](102_libraries-modules.ipynb), [Collaborating and CI](103_github-testing-ci.ipynb) |\n",
    "|\n",
    "\n",
    "Previous lesson instructor notebooks:\n",
    "\n",
    "| Date | Instructor |\n",
    "| --- | --- |"
   ]
  }
 ],
 "metadata": {
  "celltoolbar": "Slideshow",
  "kernelspec": {
   "display_name": "Python 3",
   "language": "python",
   "name": "python3"
  },
  "language_info": {
   "codemirror_mode": {
    "name": "ipython",
    "version": 3
   },
   "file_extension": ".py",
   "mimetype": "text/x-python",
   "name": "python",
   "nbconvert_exporter": "python",
   "pygments_lexer": "ipython3",
   "version": "3.7.3"
  }
 },
 "nbformat": 4,
 "nbformat_minor": 2
}
