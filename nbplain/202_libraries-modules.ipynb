{
 "cells": [
  {
   "cell_type": "markdown",
   "metadata": {
    "slideshow": {
     "slide_type": "slide"
    }
   },
   "source": [
    "# Documenting, Libraries and Modules in Python\n",
    "\n",
    "This lesson explores combining classes into libraries.  It takes you through documenting your code and classes, and handling exceptions to make your code robust, providing useful messages for users.  Finally you will combine classes into a module and learn how to install the package so you can re-use it in your work."
   ]
  },
  {
   "cell_type": "markdown",
   "metadata": {
    "slideshow": {
     "slide_type": "slide"
    }
   },
   "source": [
    "## Prerequisites:\n",
    "\n",
    "To complete this lesson you should be familiar with:\n",
    "- Writing programs in Python\n",
    "- Writing functions and classes\n",
    "- Wanting to write reusable code"
   ]
  },
  {
   "cell_type": "markdown",
   "metadata": {
    "slideshow": {
     "slide_type": "slide"
    }
   },
   "source": [
    "## Materials\n",
    "\n",
    "Lesson material: [https://arc-lessons.github.io/libraries-modules/00_schedule.html](https://arc-lessons.github.io/libraries-modules/00_schedule.html)\n",
    "\n",
    "Book a place (University of Bath students and staff only)\n",
    "\n",
    "Future lessons:\n",
    "\n",
    "| Dates | Programme |\n",
    "| --- | --- |\n",
    "| 16th October 13:15-16:05 | [Classes](101_funcs-classes.ipynb), [Collaborating and CI](103_github-testing-ci.ipynb), [Performance](104_perf-python.ipynb)|\n",
    "|\n",
    "\n",
    "Previous lesson instructor notebooks:\n",
    "\n",
    "| Date | Instructor |\n",
    "| --- | --- |"
   ]
  }
 ],
 "metadata": {
  "celltoolbar": "Slideshow",
  "kernelspec": {
   "display_name": "Python 3",
   "language": "python",
   "name": "python3"
  },
  "language_info": {
   "codemirror_mode": {
    "name": "ipython",
    "version": 3
   },
   "file_extension": ".py",
   "mimetype": "text/x-python",
   "name": "python",
   "nbconvert_exporter": "python",
   "pygments_lexer": "ipython3",
   "version": "3.7.3"
  }
 },
 "nbformat": 4,
 "nbformat_minor": 2
}
