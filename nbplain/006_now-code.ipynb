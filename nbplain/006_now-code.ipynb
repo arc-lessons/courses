{
 "cells": [
  {
   "cell_type": "markdown",
   "metadata": {
    "slideshow": {
     "slide_type": "slide"
    }
   },
   "source": [
    "# Now Code"
   ]
  },
  {
   "cell_type": "markdown",
   "metadata": {
    "slideshow": {
     "slide_type": "subslide"
    }
   },
   "source": [
    "This session will build upon what you have learnt previously, as you attempt a series of exercises.  These challenges will provide an opportunity to develop your understanding of how to approach coding, while putting the tools and methods covered in previous workshops into practice.  By the end of the workshop you should feel confident employing good practices to develop the software you need for your research."
   ]
  },
  {
   "cell_type": "markdown",
   "metadata": {
    "slideshow": {
     "slide_type": "slide"
    }
   },
   "source": [
    "## Prerequisites\n",
    "\n",
    "In order to benefit the most from this lesson, you should be familar with:\n",
    "* The [Linux](001_intro-linux.ipynb) command line\n",
    "* Using [git](003_version-control-git.ipynb)\n",
    "* Programming in [Python](002_intro-python.ipynb)\n",
    "* [Testing](004_intro-testing.ipynb) in Python"
   ]
  },
  {
   "cell_type": "markdown",
   "metadata": {
    "slideshow": {
     "slide_type": "slide"
    }
   },
   "source": [
    "## Materials\n",
    "\n",
    "Lesson material: [https://arc-lessons.github.io/now-code/00_schedule.html](https://arc-lessons.github.io/now-code/00_schedule.html)\n",
    "\n",
    "Book a place (University of Bath students and staff only)\n",
    "\n",
    "Future lessons:\n",
    "\n",
    "| Dates | Programme |\n",
    "| --- | --- |\n",
    "\n",
    "Previous lesson instructor notebooks:\n",
    "\n",
    "| Date | Instructor |\n",
    "| --- | --- |"
   ]
  }
 ],
 "metadata": {
  "celltoolbar": "Slideshow",
  "kernelspec": {
   "display_name": "Python 3",
   "language": "python",
   "name": "python3"
  },
  "language_info": {
   "codemirror_mode": {
    "name": "ipython",
    "version": 3
   },
   "file_extension": ".py",
   "mimetype": "text/x-python",
   "name": "python",
   "nbconvert_exporter": "python",
   "pygments_lexer": "ipython3",
   "version": "3.7.3"
  }
 },
 "nbformat": 4,
 "nbformat_minor": 2
}
