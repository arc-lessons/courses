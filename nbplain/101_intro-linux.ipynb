{
 "cells": [
  {
   "cell_type": "markdown",
   "metadata": {
    "slideshow": {
     "slide_type": "slide"
    }
   },
   "source": [
    "# The Unix Shell\n",
    "\n",
    "The Unix shell has been around longer than most of its users have been alive. It has survived so long because it's a power tool that allows people to do complex things with just a few keystrokes. More importantly, it helps them combine existing programs in new ways and automate repetitive tasks so they aren't typing the same things over and over again.\n",
    "\n",
    "Use of the shell is fundamental to using a wide range of other powerful tools and computing resources (including \"high-performance computing\" supercomputers). These lessons will start you on a path towards using these resources effectively.  By the end of the session attendees will understand how to navigate and use simple commands to open, print and locate files and find out how to use programs."
   ]
  },
  {
   "cell_type": "markdown",
   "metadata": {
    "slideshow": {
     "slide_type": "slide"
    }
   },
   "source": [
    "## Prerequisites\n",
    "\n",
    "This lesson guides you through the basics of file systems and the shell. If you have stored files on a computer at all and recognize the word \"file\" and either \"directory\" or \"folder\" (two common words for the same thing), you're ready for this lesson, please follow the setup section below.\n",
    "\n",
    "If you're already comfortable manipulating files and directories, searching for files with grep and find, and writing simple loops and scripts, you probably want to explore the next lesson."
   ]
  },
  {
   "cell_type": "markdown",
   "metadata": {
    "slideshow": {
     "slide_type": "slide"
    }
   },
   "source": [
    "## Materials\n",
    "\n",
    "Lesson material: [https://arc-lessons.github.io/intro-linux/00_schedule.html](https://arc-lessons.github.io/intro-linux/00_schedule.html)\n",
    "\n",
    "Book a place (University of Bath students and staff only)\n",
    "\n",
    "Future lessons:\n",
    "\n",
    "| Dates | Programme |\n",
    "| --- | --- |\n",
    "| 23rd September 10:15-13:05 | [Python](002_intro-python.ipynb), [Version Control](003_version-control-git.ipynb), [Testing](004_intro-testing.ipynb), [Working with Data](005_intro-data-plotting.ipynb) |\n",
    "|\n",
    "\n",
    "Previous lesson instructor notebooks:\n",
    "\n",
    "| Date | Instructor |\n",
    "| --- | --- |\n",
    "| [24th April 2019](https://notebooks.azure.com/jgrant/projects/intro-linux-jgrant-19-04-24) | James Grant |"
   ]
  }
 ],
 "metadata": {
  "celltoolbar": "Slideshow",
  "kernelspec": {
   "display_name": "Python 3",
   "language": "python",
   "name": "python3"
  },
  "language_info": {
   "codemirror_mode": {
    "name": "ipython",
    "version": 3
   },
   "file_extension": ".py",
   "mimetype": "text/x-python",
   "name": "python",
   "nbconvert_exporter": "python",
   "pygments_lexer": "ipython3",
   "version": "3.7.3"
  }
 },
 "nbformat": 4,
 "nbformat_minor": 2
}
