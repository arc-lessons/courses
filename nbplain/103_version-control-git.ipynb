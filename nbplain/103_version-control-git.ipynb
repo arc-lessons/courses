{
 "cells": [
  {
   "cell_type": "markdown",
   "metadata": {
    "slideshow": {
     "slide_type": "slide"
    }
   },
   "source": [
    "# Version Control with Git\n",
    "\n",
    "Version control is essential for effective software development, collaborations on articles or proposals and is increasingly used to manage data and analysis workflows.  This session will introduce git, show how to set up and update a repository as well as setup online repositories and collaborations. \n",
    "\n",
    "Git has become the standard tool for version control which can be invaluable for researchers:\n",
    "\n",
    "- Nothing that is committed to version control is ever lost, unless you work really, really hard at it. Since all old versions of files are saved, it’s always possible to go back in time to see exactly who wrote what on a particular day, or what version of a program was used to generate a particular set of results.\n",
    "\n",
    "- As we have this record of who made what changes when, we know who to ask if we have questions later on, and, if needed, revert to a previous version, much like the “undo” feature in an editor.\n",
    "\n",
    "- When several people collaborate in the same project, it’s possible to accidentally overlook or overwrite someone’s changes. The version control system automatically notifies users whenever there’s a conflict between one person’s work and another’s.\n",
    "\n",
    "Teams are not the only ones to benefit from version control: lone researchers can benefit immensely. Keeping a record of what was changed, when, and why is extremely useful for all researchers if they ever need to come back to the project later on (e.g., a year later, when memory has faded).\n",
    "\n",
    "Version control is the lab notebook of the digital world: it’s what professionals use to keep track of what they’ve done and to collaborate with other people. Every large software development project relies on it, and most programmers use it for their small jobs as well. And it isn’t just for software: books, papers, small data sets, and anything that changes over time or needs to be shared can and should be stored in a version control system."
   ]
  },
  {
   "cell_type": "markdown",
   "metadata": {
    "slideshow": {
     "slide_type": "slide"
    }
   },
   "source": [
    "## Prerequisites\n",
    "\n",
    "In order to complete the tutorial you should be familiar with:\n",
    "* The linux command line"
   ]
  },
  {
   "cell_type": "markdown",
   "metadata": {
    "slideshow": {
     "slide_type": "slide"
    }
   },
   "source": [
    "## Materials\n",
    "\n",
    "Lesson material: [https://arc-bath.github.io/version-control-git/00_schedule.html](https://arc-bath.github.io/version-control-git/00_schedule.html)\n",
    "\n",
    "Book a place (University of Bath students and staff only)\n",
    "\n",
    "Future lessons:\n",
    "\n",
    "| Dates | Programme |\n",
    "| --- | --- |\n",
    "| 24th September 14:15-17:05 | [Linux](001_intro-linux.ipynb), [Python](002_intro-python.ipynb), [Testing](004_intro-testing.ipynb), [Working with Data](005_intro-data-plotting.ipynb) |\n",
    "|\n",
    "| 4th December 13:15-16:05 | [Python](002_intro-python.ipynb), [Working with Data](005_intro-data-plotting.ipynb) |\n",
    "|\n",
    "\n",
    "Previous lesson instructor notebooks:\n",
    "\n",
    "| Date | Instructor |\n",
    "| --- | --- |\n",
    "| [25th April 2019](https://notebooks.azure.com/jgrant/projects/vc-git-jgrant-19-04-25) | James Grant |"
   ]
  }
 ],
 "metadata": {
  "celltoolbar": "Slideshow",
  "kernelspec": {
   "display_name": "Python 3",
   "language": "python",
   "name": "python3"
  },
  "language_info": {
   "codemirror_mode": {
    "name": "ipython",
    "version": 3
   },
   "file_extension": ".py",
   "mimetype": "text/x-python",
   "name": "python",
   "nbconvert_exporter": "python",
   "pygments_lexer": "ipython3",
   "version": "3.7.3"
  }
 },
 "nbformat": 4,
 "nbformat_minor": 2
}
